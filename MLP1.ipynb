{
 "cells": [
  {
   "cell_type": "code",
   "execution_count": 6,
   "id": "836fdffd-ff5d-4d01-8066-4531bd2ce925",
   "metadata": {},
   "outputs": [],
   "source": [
    "import pandas as pd\n",
    "import numpy as np\n",
    "from sklearn.preprocessing import LabelEncoder, MinMaxScaler\n",
    "from sklearn.model_selection import train_test_split\n",
    "import tensorflow as tf\n",
    "from tensorflow.keras.models import Sequential\n",
    "from tensorflow.keras.layers import Dense\n"
   ]
  },
  {
   "cell_type": "code",
   "execution_count": 7,
   "id": "ec0c3a8d-2938-4d77-8457-9867d8a269ac",
   "metadata": {},
   "outputs": [
    {
     "name": "stdout",
     "output_type": "stream",
     "text": [
      "        Name  NO₂ (µg/m³)  O₃ (µg/m³) Pollution Category\n",
      "0  Ghaziabad     0.352081  256.423698     4 - Borderline\n",
      "1  Ghaziabad     0.346645  238.518782     4 - Borderline\n",
      "2  Ghaziabad     0.337710  290.520284     4 - Borderline\n",
      "3  Ghaziabad     0.394439  292.273187     4 - Borderline\n",
      "4  Ghaziabad     0.333927  289.085719     4 - Borderline\n"
     ]
    }
   ],
   "source": [
    "# Load the dataset (Make sure \"data1.csv\" is in the same directory)\n",
    "data1 = pd.read_csv(\"data1.csv\")\n",
    "\n",
    "# Display first few rows\n",
    "print(data1.head())\n"
   ]
  },
  {
   "cell_type": "code",
   "execution_count": 8,
   "id": "2017f7d0-b3c3-414a-9c05-9a354edc4b24",
   "metadata": {},
   "outputs": [
    {
     "name": "stdout",
     "output_type": "stream",
     "text": [
      "   NO₂ (µg/m³)  O₃ (µg/m³)  Pollution Category\n",
      "0     0.135643    0.145044                   3\n",
      "1     0.133549    0.084402                   3\n",
      "2     0.130106    0.260527                   3\n",
      "3     0.151962    0.266464                   3\n",
      "4     0.128649    0.255669                   3\n"
     ]
    }
   ],
   "source": [
    "# Drop 'Name' column since it's not useful for training\n",
    "data1.drop(\"Name\", axis=1, inplace=True)\n",
    "\n",
    "# Encode 'Pollution Category' into numerical values\n",
    "encoder = LabelEncoder()\n",
    "data1[\"Pollution Category\"] = encoder.fit_transform(data1[\"Pollution Category\"])\n",
    "\n",
    "# Normalize NO₂ and O₃ values\n",
    "scaler = MinMaxScaler()\n",
    "data1[[\"NO₂ (µg/m³)\", \"O₃ (µg/m³)\"]] = scaler.fit_transform(data1[[\"NO₂ (µg/m³)\", \"O₃ (µg/m³)\"]])\n",
    "\n",
    "# Display processed data\n",
    "print(data1.head())\n"
   ]
  },
  {
   "cell_type": "code",
   "execution_count": 9,
   "id": "fb0310ac-a686-4067-99e3-0b4514f43e80",
   "metadata": {},
   "outputs": [
    {
     "name": "stdout",
     "output_type": "stream",
     "text": [
      "Training samples: 11692, Testing samples: 2924\n"
     ]
    }
   ],
   "source": [
    "# Split into features (X) and labels (y)\n",
    "X = data1[[\"NO₂ (µg/m³)\", \"O₃ (µg/m³)\"]].values\n",
    "y = tf.keras.utils.to_categorical(data1[\"Pollution Category\"])  # Convert to one-hot encoding\n",
    "\n",
    "# Train-test split (80% train, 20% test)\n",
    "X_train, X_test, y_train, y_test = train_test_split(X, y, test_size=0.2, random_state=42)\n",
    "\n",
    "# Print dataset shapes\n",
    "print(f\"Training samples: {X_train.shape[0]}, Testing samples: {X_test.shape[0]}\")\n"
   ]
  },
  {
   "cell_type": "code",
   "execution_count": 10,
   "id": "85b192ed-f1c4-42b0-98f0-0e0bd753861b",
   "metadata": {},
   "outputs": [
    {
     "name": "stdout",
     "output_type": "stream",
     "text": [
      "Model: \"sequential\"\n",
      "_________________________________________________________________\n",
      " Layer (type)                Output Shape              Param #   \n",
      "=================================================================\n",
      " dense (Dense)               (None, 16)                48        \n",
      "                                                                 \n",
      " dense_1 (Dense)             (None, 8)                 136       \n",
      "                                                                 \n",
      " dense_2 (Dense)             (None, 6)                 54        \n",
      "                                                                 \n",
      "=================================================================\n",
      "Total params: 238 (952.00 Byte)\n",
      "Trainable params: 238 (952.00 Byte)\n",
      "Non-trainable params: 0 (0.00 Byte)\n",
      "_________________________________________________________________\n"
     ]
    }
   ],
   "source": [
    "# Build the MLP Model\n",
    "model = Sequential([\n",
    "    Dense(16, activation=\"relu\", input_shape=(2,)),  # Input layer with 2 features\n",
    "    Dense(8, activation=\"relu\"),  # Hidden layer\n",
    "    Dense(y.shape[1], activation=\"softmax\")  # Output layer (multi-class classification)\n",
    "])\n",
    "\n",
    "# Compile the model\n",
    "model.compile(optimizer=\"adam\", loss=\"categorical_crossentropy\", metrics=[\"accuracy\"])\n",
    "\n",
    "# Show model summary\n",
    "model.summary()\n"
   ]
  },
  {
   "cell_type": "code",
   "execution_count": 11,
   "id": "88a0b3fa-5bb9-47a6-bc9d-9b13fa2f9d4e",
   "metadata": {},
   "outputs": [
    {
     "name": "stdout",
     "output_type": "stream",
     "text": [
      "Epoch 1/50\n",
      "366/366 [==============================] - 2s 2ms/step - loss: 1.5393 - accuracy: 0.3751 - val_loss: 1.3673 - val_accuracy: 0.3919\n",
      "Epoch 2/50\n",
      "366/366 [==============================] - 0s 1ms/step - loss: 1.1684 - accuracy: 0.4702 - val_loss: 0.9757 - val_accuracy: 0.5667\n",
      "Epoch 3/50\n",
      "366/366 [==============================] - 0s 1ms/step - loss: 0.8414 - accuracy: 0.6814 - val_loss: 0.7158 - val_accuracy: 0.8037\n",
      "Epoch 4/50\n",
      "366/366 [==============================] - 1s 2ms/step - loss: 0.6389 - accuracy: 0.8174 - val_loss: 0.5577 - val_accuracy: 0.8307\n",
      "Epoch 5/50\n",
      "366/366 [==============================] - 0s 1ms/step - loss: 0.5139 - accuracy: 0.8467 - val_loss: 0.4602 - val_accuracy: 0.8529\n",
      "Epoch 6/50\n",
      "366/366 [==============================] - 0s 1ms/step - loss: 0.4343 - accuracy: 0.8682 - val_loss: 0.3970 - val_accuracy: 0.8718\n",
      "Epoch 7/50\n",
      "366/366 [==============================] - 0s 1ms/step - loss: 0.3772 - accuracy: 0.8874 - val_loss: 0.3491 - val_accuracy: 0.8912\n",
      "Epoch 8/50\n",
      "366/366 [==============================] - 0s 1ms/step - loss: 0.3351 - accuracy: 0.9028 - val_loss: 0.3155 - val_accuracy: 0.8991\n",
      "Epoch 9/50\n",
      "366/366 [==============================] - 0s 1ms/step - loss: 0.3017 - accuracy: 0.9127 - val_loss: 0.2959 - val_accuracy: 0.8984\n",
      "Epoch 10/50\n",
      "366/366 [==============================] - 0s 1ms/step - loss: 0.2770 - accuracy: 0.9245 - val_loss: 0.2643 - val_accuracy: 0.9183\n",
      "Epoch 11/50\n",
      "366/366 [==============================] - 0s 1ms/step - loss: 0.2561 - accuracy: 0.9297 - val_loss: 0.2453 - val_accuracy: 0.9268\n",
      "Epoch 12/50\n",
      "366/366 [==============================] - 0s 1ms/step - loss: 0.2390 - accuracy: 0.9360 - val_loss: 0.2329 - val_accuracy: 0.9272\n",
      "Epoch 13/50\n",
      "366/366 [==============================] - 0s 1ms/step - loss: 0.2241 - accuracy: 0.9390 - val_loss: 0.2179 - val_accuracy: 0.9278\n",
      "Epoch 14/50\n",
      "366/366 [==============================] - 0s 1ms/step - loss: 0.2118 - accuracy: 0.9409 - val_loss: 0.2071 - val_accuracy: 0.9340\n",
      "Epoch 15/50\n",
      "366/366 [==============================] - 0s 1ms/step - loss: 0.2024 - accuracy: 0.9431 - val_loss: 0.1947 - val_accuracy: 0.9384\n",
      "Epoch 16/50\n",
      "366/366 [==============================] - 0s 1ms/step - loss: 0.1931 - accuracy: 0.9464 - val_loss: 0.1897 - val_accuracy: 0.9367\n",
      "Epoch 17/50\n",
      "366/366 [==============================] - 0s 1ms/step - loss: 0.1845 - accuracy: 0.9496 - val_loss: 0.1791 - val_accuracy: 0.9443\n",
      "Epoch 18/50\n",
      "366/366 [==============================] - 0s 1ms/step - loss: 0.1768 - accuracy: 0.9516 - val_loss: 0.1748 - val_accuracy: 0.9422\n",
      "Epoch 19/50\n",
      "366/366 [==============================] - 1s 1ms/step - loss: 0.1712 - accuracy: 0.9537 - val_loss: 0.1662 - val_accuracy: 0.9494\n",
      "Epoch 20/50\n",
      "366/366 [==============================] - 0s 1ms/step - loss: 0.1649 - accuracy: 0.9556 - val_loss: 0.1607 - val_accuracy: 0.9538\n",
      "Epoch 21/50\n",
      "366/366 [==============================] - 0s 1ms/step - loss: 0.1591 - accuracy: 0.9572 - val_loss: 0.1552 - val_accuracy: 0.9549\n",
      "Epoch 22/50\n",
      "366/366 [==============================] - 1s 1ms/step - loss: 0.1555 - accuracy: 0.9562 - val_loss: 0.1507 - val_accuracy: 0.9549\n",
      "Epoch 23/50\n",
      "366/366 [==============================] - 0s 1ms/step - loss: 0.1501 - accuracy: 0.9600 - val_loss: 0.1456 - val_accuracy: 0.9593\n",
      "Epoch 24/50\n",
      "366/366 [==============================] - 0s 1ms/step - loss: 0.1459 - accuracy: 0.9608 - val_loss: 0.1440 - val_accuracy: 0.9576\n",
      "Epoch 25/50\n",
      "366/366 [==============================] - 0s 1ms/step - loss: 0.1425 - accuracy: 0.9622 - val_loss: 0.1407 - val_accuracy: 0.9579\n",
      "Epoch 26/50\n",
      "366/366 [==============================] - 0s 1ms/step - loss: 0.1392 - accuracy: 0.9630 - val_loss: 0.1354 - val_accuracy: 0.9603\n",
      "Epoch 27/50\n",
      "366/366 [==============================] - 0s 1ms/step - loss: 0.1359 - accuracy: 0.9628 - val_loss: 0.1337 - val_accuracy: 0.9607\n",
      "Epoch 28/50\n",
      "366/366 [==============================] - 0s 1ms/step - loss: 0.1335 - accuracy: 0.9647 - val_loss: 0.1294 - val_accuracy: 0.9631\n",
      "Epoch 29/50\n",
      "366/366 [==============================] - 0s 1ms/step - loss: 0.1307 - accuracy: 0.9645 - val_loss: 0.1304 - val_accuracy: 0.9573\n",
      "Epoch 30/50\n",
      "366/366 [==============================] - 0s 1ms/step - loss: 0.1284 - accuracy: 0.9653 - val_loss: 0.1241 - val_accuracy: 0.9651\n",
      "Epoch 31/50\n",
      "366/366 [==============================] - 0s 1ms/step - loss: 0.1259 - accuracy: 0.9642 - val_loss: 0.1224 - val_accuracy: 0.9668\n",
      "Epoch 32/50\n",
      "366/366 [==============================] - 0s 1ms/step - loss: 0.1236 - accuracy: 0.9660 - val_loss: 0.1198 - val_accuracy: 0.9637\n",
      "Epoch 33/50\n",
      "366/366 [==============================] - 0s 1ms/step - loss: 0.1216 - accuracy: 0.9668 - val_loss: 0.1219 - val_accuracy: 0.9593\n",
      "Epoch 34/50\n",
      "366/366 [==============================] - 0s 1ms/step - loss: 0.1197 - accuracy: 0.9660 - val_loss: 0.1193 - val_accuracy: 0.9637\n",
      "Epoch 35/50\n",
      "366/366 [==============================] - 0s 1ms/step - loss: 0.1186 - accuracy: 0.9658 - val_loss: 0.1168 - val_accuracy: 0.9620\n",
      "Epoch 36/50\n",
      "366/366 [==============================] - 0s 1ms/step - loss: 0.1165 - accuracy: 0.9676 - val_loss: 0.1131 - val_accuracy: 0.9679\n",
      "Epoch 37/50\n",
      "366/366 [==============================] - 0s 1ms/step - loss: 0.1145 - accuracy: 0.9665 - val_loss: 0.1110 - val_accuracy: 0.9702\n",
      "Epoch 38/50\n",
      "366/366 [==============================] - 0s 1ms/step - loss: 0.1132 - accuracy: 0.9679 - val_loss: 0.1102 - val_accuracy: 0.9668\n",
      "Epoch 39/50\n",
      "366/366 [==============================] - 0s 1ms/step - loss: 0.1116 - accuracy: 0.9674 - val_loss: 0.1082 - val_accuracy: 0.9696\n",
      "Epoch 40/50\n",
      "366/366 [==============================] - 0s 1ms/step - loss: 0.1102 - accuracy: 0.9669 - val_loss: 0.1122 - val_accuracy: 0.9624\n",
      "Epoch 41/50\n",
      "366/366 [==============================] - 0s 1ms/step - loss: 0.1097 - accuracy: 0.9668 - val_loss: 0.1058 - val_accuracy: 0.9696\n",
      "Epoch 42/50\n",
      "366/366 [==============================] - 0s 1ms/step - loss: 0.1074 - accuracy: 0.9684 - val_loss: 0.1041 - val_accuracy: 0.9716\n",
      "Epoch 43/50\n",
      "366/366 [==============================] - 0s 1ms/step - loss: 0.1070 - accuracy: 0.9670 - val_loss: 0.1037 - val_accuracy: 0.9699\n",
      "Epoch 44/50\n",
      "366/366 [==============================] - 0s 1ms/step - loss: 0.1057 - accuracy: 0.9696 - val_loss: 0.1029 - val_accuracy: 0.9665\n",
      "Epoch 45/50\n",
      "366/366 [==============================] - 0s 1ms/step - loss: 0.1046 - accuracy: 0.9684 - val_loss: 0.1008 - val_accuracy: 0.9716\n",
      "Epoch 46/50\n",
      "366/366 [==============================] - 1s 2ms/step - loss: 0.1032 - accuracy: 0.9719 - val_loss: 0.0997 - val_accuracy: 0.9716\n",
      "Epoch 47/50\n",
      "366/366 [==============================] - 0s 1ms/step - loss: 0.1035 - accuracy: 0.9682 - val_loss: 0.1022 - val_accuracy: 0.9627\n",
      "Epoch 48/50\n",
      "366/366 [==============================] - 0s 1ms/step - loss: 0.1021 - accuracy: 0.9678 - val_loss: 0.0991 - val_accuracy: 0.9689\n",
      "Epoch 49/50\n",
      "366/366 [==============================] - 0s 1ms/step - loss: 0.1012 - accuracy: 0.9688 - val_loss: 0.0996 - val_accuracy: 0.9723\n",
      "Epoch 50/50\n",
      "366/366 [==============================] - 0s 1ms/step - loss: 0.0997 - accuracy: 0.9703 - val_loss: 0.0971 - val_accuracy: 0.9706\n"
     ]
    }
   ],
   "source": [
    "# Train the model\n",
    "history = model.fit(X_train, y_train, epochs=50, batch_size=32, validation_data=(X_test, y_test))\n"
   ]
  },
  {
   "cell_type": "code",
   "execution_count": 12,
   "id": "9ce8008a-c153-4e24-a218-fd2aa6b72357",
   "metadata": {},
   "outputs": [
    {
     "name": "stdout",
     "output_type": "stream",
     "text": [
      "92/92 [==============================] - 0s 919us/step - loss: 0.0971 - accuracy: 0.9706\n",
      "Test Accuracy: 0.9706\n"
     ]
    }
   ],
   "source": [
    "# Evaluate on test set\n",
    "loss, accuracy = model.evaluate(X_test, y_test)\n",
    "print(f\"Test Accuracy: {accuracy:.4f}\")\n"
   ]
  },
  {
   "cell_type": "code",
   "execution_count": 13,
   "id": "50bed1dd-9f97-4742-bf62-7dcb836810d2",
   "metadata": {},
   "outputs": [
    {
     "data": {
      "image/png": "[encoded data removed]",
      "text/plain": [
       "<Figure size 1200x500 with 2 Axes>"
      ]
     },
     "metadata": {},
     "output_type": "display_data"
    }
   ],
   "source": [
    "import matplotlib.pyplot as plt\n",
    "\n",
    "# Plot training loss & accuracy\n",
    "plt.figure(figsize=(12, 5))\n",
    "\n",
    "# Loss plot\n",
    "plt.subplot(1, 2, 1)\n",
    "plt.plot(history.history['loss'], label='Train Loss')\n",
    "plt.plot(history.history['val_loss'], label='Validation Loss')\n",
    "plt.xlabel('Epochs')\n",
    "plt.ylabel('Loss')\n",
    "plt.title('Loss Curve')\n",
    "plt.legend()\n",
    "\n",
    "# Accuracy plot\n",
    "plt.subplot(1, 2, 2)\n",
    "plt.plot(history.history['accuracy'], label='Train Accuracy')\n",
    "plt.plot(history.history['val_accuracy'], label='Validation Accuracy')\n",
    "plt.xlabel('Epochs')\n",
    "plt.ylabel('Accuracy')\n",
    "plt.title('Accuracy Curve')\n",
    "plt.legend()\n",
    "\n",
    "plt.show()\n"
   ]
  },
  {
   "cell_type": "code",
   "execution_count": 15,
   "id": "387d6cde-99b1-4ff2-aed0-1880f284efc4",
   "metadata": {},
   "outputs": [
    {
     "name": "stdout",
     "output_type": "stream",
     "text": [
      "done\n"
     ]
    }
   ],
   "source": [
    "# Save the entire model\n",
    "model.save(\"mlp1.keras\")\n",
    "print(\"done\")"
   ]
  }
 ],
 "metadata": {
  "kernelspec": {
   "display_name": "Python 3 (ipykernel)",
   "language": "python",
   "name": "python3"
  },
  "language_info": {
   "codemirror_mode": {
    "name": "ipython",
    "version": 3
   },
   "file_extension": ".py",
   "mimetype": "text/x-python",
   "name": "python",
   "nbconvert_exporter": "python",
   "pygments_lexer": "ipython3",
   "version": "3.11.4"
  }
 },
 "nbformat": 4,
 "nbformat_minor": 5
}
