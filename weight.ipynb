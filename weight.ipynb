{
 "cells": [
  {
   "cell_type": "code",
   "execution_count": null,
   "id": "c49cf718-13d1-4ec4-bf78-e97aea04ba82",
   "metadata": {},
   "outputs": [],
   "source": [
    "import numpy as np\n",
    "import tensorflow as tf\n",
    "import joblib\n",
    "print(\"done\")"
   ]
  },
  {
   "cell_type": "code",
   "execution_count": null,
   "id": "6f824ed4-82f2-446f-a164-d374991f4b1b",
   "metadata": {},
   "outputs": [],
   "source": [
    "# Load base models\n",
    "model1 = tf.keras.models.load_model(\"mlp1.keras\")  # NO2 & O3\n",
    "model2 = tf.keras.models.load_model(\"mlp2.keras\")  # PM2.5\n",
    "model3 = tf.keras.models.load_model(\"mlp3.keras\")  # PM10\n",
    "model4 = tf.keras.models.load_model(\"mlp4.keras\")  # SO2 & CO\n",
    "\n",
    "print(\"✅ Models Loaded Successfully!\")\n"
   ]
  },
  {
   "cell_type": "code",
   "execution_count": null,
   "id": "0a42616d-fc92-49e9-9e5f-456f23063a95",
   "metadata": {},
   "outputs": [],
   "source": [
    "import numpy as np\n",
    "\n",
    "# 🚀 New Weight Distribution (More emphasis on harmful pollutants)\n",
    "weights = np.array([0.10, 0.35, 0.30, 0.25])  # Reduce NO₂ & O₃ impact\n",
    "\n",
    "# Breakdown:\n",
    "# NO₂ & O₃  →  15%  (Still important, but less impactful than PM2.5)\n",
    "# PM2.5     →  40%  (Most impactful, should have the highest weight)\n",
    "# PM10      →  30%  (Slightly increased to reflect its effect)\n",
    "# SO₂ & CO  →  25%  (CO is dangerous, needs a higher weight)\n"
   ]
  },
  {
   "cell_type": "code",
   "execution_count": null,
   "id": "dabff394-3206-441b-9116-a1a71137515a",
   "metadata": {},
   "outputs": [],
   "source": [
    "import numpy as np\n",
    "\n",
    "# Define min and max values based on air quality standards\n",
    "MIN_VALUES = np.array([0, 0, 0, 0, 0, 0])  # Minimum pollutant levels (µg/m³)\n",
    "MAX_VALUES = np.array([200, 200, 500, 500, 100, 50])  # Maximum observed values\n",
    "\n",
    "def get_user_inputs():\n",
    "    while True:\n",
    "        try:\n",
    "            no2 = float(input(\"Enter NO₂ level (µg/m³): \"))\n",
    "            o3 = float(input(\"Enter O₃ level (µg/m³): \"))\n",
    "            pm25 = float(input(\"Enter PM2.5 level (µg/m³): \"))\n",
    "            pm10 = float(input(\"Enter PM10 level (µg/m³): \"))\n",
    "            so2 = float(input(\"Enter SO₂ level (µg/m³): \"))\n",
    "            co = float(input(\"Enter CO level (mg/m³): \"))  # CO usually in mg/m³\n",
    "            \n",
    "            # Convert CO from mg/m³ to µg/m³ (1 mg/m³ = 1000 µg/m³)\n",
    "            co *= 1000  \n",
    "            \n",
    "            # Store in an array\n",
    "            raw_values = np.array([no2, o3, pm25, pm10, so2, co])\n",
    "\n",
    "            # Min-Max Scaling\n",
    "            scaled_values = (raw_values - MIN_VALUES) / (MAX_VALUES - MIN_VALUES)\n",
    "            \n",
    "            return scaled_values\n",
    "        \n",
    "        except ValueError:\n",
    "            print(\"❌ Invalid input! Please enter numerical values only.\")\n",
    "\n",
    "# Get scaled inputs\n",
    "scaled_inputs = get_user_inputs()\n"
   ]
  },
  {
   "cell_type": "code",
   "execution_count": null,
   "id": "522a0e70-dcf4-4256-8b94-8f230a04c5bf",
   "metadata": {},
   "outputs": [],
   "source": [
    "# Format inputs correctly for the models\n",
    "input1 = np.array([[scaled_inputs[0], scaled_inputs[1]]])  # Model 1: NO₂ & O₃\n",
    "input2 = np.array([[scaled_inputs[2]]])  # Model 2: PM2.5\n",
    "input3 = np.array([[scaled_inputs[3]]])  # Model 3: PM10\n",
    "input4 = np.array([[scaled_inputs[4], scaled_inputs[5]]])  # Model 4: SO₂ & CO\n",
    "\n",
    "print(\"\\n✅ Scaled Inputs Ready for Prediction!\")\n"
   ]
  },
  {
   "cell_type": "code",
   "execution_count": null,
   "id": "037d59da-35c8-4334-a206-3218aaef3067",
   "metadata": {},
   "outputs": [],
   "source": [
    "# Get predictions from base models (each outputs (1,6) softmax probabilities)\n",
    "pred_1 = model1.predict(input1)  \n",
    "pred_2 = model2.predict(input2)  \n",
    "pred_3 = model3.predict(input3)  \n",
    "pred_4 = model4.predict(input4)  \n",
    "\n",
    "print(\"✅ Predictions Obtained from Base Models!\")\n",
    "\n",
    "# 📌 Print the outputs of each model\n",
    "print(\"\\n✅ Predictions Obtained from Base Models!\\n\")\n",
    "print(f\"📊 Model 1 Predictions: {pred_1}\")\n",
    "print(f\"📊 Model 2 Predictions: {pred_2}\")\n",
    "print(f\"📊 Model 3 Predictions: {pred_3}\")\n",
    "print(f\"📊 Model 4 Predictions: {pred_4}\")\n"
   ]
  },
  {
   "cell_type": "code",
   "execution_count": null,
   "id": "5275848b-a13a-4a90-bcf1-875d007bd463",
   "metadata": {},
   "outputs": [],
   "source": [
    "# Stack predictions vertically => shape will be (4, 6)\n",
    "stacked_preds = np.vstack([pred_1, pred_2, pred_3, pred_4])  # Shape: (4, 6)\n",
    "\n",
    "# Define weights (must match number of rows, i.e., 4)\n",
    "weights = [0.10, 0.35, 0.30, 0.25]  # Adjust as needed\n",
    "\n",
    "# Compute weighted average along axis=0 (i.e., average each class score across models)\n",
    "weighted_preds = np.average(stacked_preds, axis=0, weights=weights)  # Shape: (6,)\n",
    "\n",
    "print(\"Weighted Predictions:\", weighted_preds)\n",
    "print(\"Done\")"
   ]
  },
  {
   "cell_type": "code",
   "execution_count": null,
   "id": "1f8c808c-925c-443a-8803-6539e7eee91e",
   "metadata": {},
   "outputs": [],
   "source": [
    "print(f\"🔢 Weighted Predictions: {weighted_preds}\")\n"
   ]
  },
  {
   "cell_type": "code",
   "execution_count": null,
   "id": "a6fa9c3a-fa12-48b0-ad17-fe3f270f321d",
   "metadata": {},
   "outputs": [],
   "source": [
    "# Define air quality labels (adjusted to 0-based indexing)\n",
    "air_quality_labels = {\n",
    "    0: \"Very Good\",\n",
    "    1: \"Good\",\n",
    "    2: \"Satisfactory\",\n",
    "    3: \"Borderline\",\n",
    "    4: \"Poor\",\n",
    "    5: \"Very Poor\"\n",
    "}\n",
    "\n",
    "# Get final predicted category (ensure 1D array)\n",
    "final_category = np.argmax(weighted_preds.flatten())  # Use .flatten() for safety\n",
    "\n",
    "# Print final prediction\n",
    "print(f\"Air Quality Classification : {air_quality_labels[final_category]}\")\n"
   ]
  }
 ],
 "metadata": {
  "kernelspec": {
   "display_name": "Python 3 (ipykernel)",
   "language": "python",
   "name": "python3"
  },
  "language_info": {
   "codemirror_mode": {
    "name": "ipython",
    "version": 3
   },
   "file_extension": ".py",
   "mimetype": "text/x-python",
   "name": "python",
   "nbconvert_exporter": "python",
   "pygments_lexer": "ipython3",
   "version": "3.11.4"
  }
 },
 "nbformat": 4,
 "nbformat_minor": 5
}
