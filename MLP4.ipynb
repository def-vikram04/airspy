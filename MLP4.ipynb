{
 "cells": [
  {
   "cell_type": "code",
   "execution_count": 3,
   "id": "59eafb89-c403-4fb1-8ca6-42934bf5c6d7",
   "metadata": {},
   "outputs": [],
   "source": [
    "import pandas as pd\n",
    "import numpy as np\n",
    "from sklearn.model_selection import train_test_split\n",
    "from sklearn.preprocessing import LabelEncoder, StandardScaler\n",
    "from tensorflow import keras\n",
    "from tensorflow.keras.models import Sequential\n",
    "from tensorflow.keras.layers import Dense\n"
   ]
  },
  {
   "cell_type": "code",
   "execution_count": 6,
   "id": "55e15829-ba23-4264-bc39-81563bee2100",
   "metadata": {},
   "outputs": [
    {
     "data": {
      "text/html": [
       "<div>\n",
       "<style scoped>\n",
       "    .dataframe tbody tr th:only-of-type {\n",
       "        vertical-align: middle;\n",
       "    }\n",
       "\n",
       "    .dataframe tbody tr th {\n",
       "        vertical-align: top;\n",
       "    }\n",
       "\n",
       "    .dataframe thead th {\n",
       "        text-align: right;\n",
       "    }\n",
       "</style>\n",
       "<table border=\"1\" class=\"dataframe\">\n",
       "  <thead>\n",
       "    <tr style=\"text-align: right;\">\n",
       "      <th></th>\n",
       "      <th>Name</th>\n",
       "      <th>CO Pollution Category</th>\n",
       "      <th>SO2 Pollution Category</th>\n",
       "      <th>Final Pollution Category</th>\n",
       "      <th>CO</th>\n",
       "      <th>SO2</th>\n",
       "    </tr>\n",
       "  </thead>\n",
       "  <tbody>\n",
       "    <tr>\n",
       "      <th>0</th>\n",
       "      <td>Cities</td>\n",
       "      <td>3 - Satisfactory</td>\n",
       "      <td>1 - Very Good</td>\n",
       "      <td>3 - Satisfactory</td>\n",
       "      <td>148.604846</td>\n",
       "      <td>1.274473</td>\n",
       "    </tr>\n",
       "    <tr>\n",
       "      <th>1</th>\n",
       "      <td>Cities</td>\n",
       "      <td>3 - Satisfactory</td>\n",
       "      <td>1 - Very Good</td>\n",
       "      <td>3 - Satisfactory</td>\n",
       "      <td>132.955469</td>\n",
       "      <td>0.916653</td>\n",
       "    </tr>\n",
       "    <tr>\n",
       "      <th>2</th>\n",
       "      <td>Cities</td>\n",
       "      <td>3 - Satisfactory</td>\n",
       "      <td>3 - Satisfactory</td>\n",
       "      <td>3 - Satisfactory</td>\n",
       "      <td>134.644860</td>\n",
       "      <td>5.448683</td>\n",
       "    </tr>\n",
       "    <tr>\n",
       "      <th>3</th>\n",
       "      <td>Cities</td>\n",
       "      <td>3 - Satisfactory</td>\n",
       "      <td>1 - Very Good</td>\n",
       "      <td>3 - Satisfactory</td>\n",
       "      <td>162.520299</td>\n",
       "      <td>1.850488</td>\n",
       "    </tr>\n",
       "    <tr>\n",
       "      <th>4</th>\n",
       "      <td>Cities</td>\n",
       "      <td>4 - Borderline</td>\n",
       "      <td>1 - Very Good</td>\n",
       "      <td>4 - Borderline</td>\n",
       "      <td>191.412869</td>\n",
       "      <td>0.316697</td>\n",
       "    </tr>\n",
       "  </tbody>\n",
       "</table>\n",
       "</div>"
      ],
      "text/plain": [
       "     Name CO Pollution Category SO2 Pollution Category  \\\n",
       "0  Cities      3 - Satisfactory          1 - Very Good   \n",
       "1  Cities      3 - Satisfactory          1 - Very Good   \n",
       "2  Cities      3 - Satisfactory       3 - Satisfactory   \n",
       "3  Cities      3 - Satisfactory          1 - Very Good   \n",
       "4  Cities        4 - Borderline          1 - Very Good   \n",
       "\n",
       "  Final Pollution Category          CO       SO2  \n",
       "0         3 - Satisfactory  148.604846  1.274473  \n",
       "1         3 - Satisfactory  132.955469  0.916653  \n",
       "2         3 - Satisfactory  134.644860  5.448683  \n",
       "3         3 - Satisfactory  162.520299  1.850488  \n",
       "4           4 - Borderline  191.412869  0.316697  "
      ]
     },
     "execution_count": 6,
     "metadata": {},
     "output_type": "execute_result"
    }
   ],
   "source": [
    "# Load dataset\n",
    "df = pd.read_csv(\"data4.csv\")  # Replace with actual file name\n",
    "df.head()  # Display first few rows\n"
   ]
  },
  {
   "cell_type": "code",
   "execution_count": 7,
   "id": "4b697e30-adc1-44d5-9db6-22f303c9571c",
   "metadata": {},
   "outputs": [],
   "source": [
    "# Extract numerical features and target variable\n",
    "X = df[['CO', 'SO2']]\n",
    "y = df['Final Pollution Category']\n"
   ]
  },
  {
   "cell_type": "code",
   "execution_count": 8,
   "id": "3d653eae-1244-4479-bfce-995d15d44b57",
   "metadata": {},
   "outputs": [
    {
     "name": "stdout",
     "output_type": "stream",
     "text": [
      "Class Mapping: {'1 - Very Good': 0, '2 - Good': 1, '3 - Satisfactory': 2, '4 - Borderline': 3, '5 - Poor': 4, '6 - Very Poor': 5}\n"
     ]
    }
   ],
   "source": [
    "# Convert categorical labels into numerical values\n",
    "label_encoder = LabelEncoder()\n",
    "y = label_encoder.fit_transform(y)\n",
    "\n",
    "# Display class mappings\n",
    "class_mapping = dict(zip(label_encoder.classes_, range(len(label_encoder.classes_))))\n",
    "print(\"Class Mapping:\", class_mapping)\n"
   ]
  },
  {
   "cell_type": "code",
   "execution_count": 9,
   "id": "562d848e-9bb1-4c74-9dc9-91329f1f8289",
   "metadata": {},
   "outputs": [],
   "source": [
    "# Normalize input features\n",
    "scaler = StandardScaler()\n",
    "X_scaled = scaler.fit_transform(X)\n"
   ]
  },
  {
   "cell_type": "code",
   "execution_count": 10,
   "id": "a7a15ed6-b6ff-46f5-8eed-f8b953728dd4",
   "metadata": {},
   "outputs": [],
   "source": [
    "# Split dataset into 80% train and 20% test\n",
    "X_train, X_test, y_train, y_test = train_test_split(X_scaled, y, test_size=0.2, random_state=42)\n"
   ]
  },
  {
   "cell_type": "code",
   "execution_count": 11,
   "id": "6da4a9a0-73ff-4d3f-9fe5-ca742a1dda82",
   "metadata": {},
   "outputs": [
    {
     "name": "stdout",
     "output_type": "stream",
     "text": [
      "Model: \"sequential\"\n",
      "_________________________________________________________________\n",
      " Layer (type)                Output Shape              Param #   \n",
      "=================================================================\n",
      " dense (Dense)               (None, 16)                48        \n",
      "                                                                 \n",
      " dense_1 (Dense)             (None, 32)                544       \n",
      "                                                                 \n",
      " dense_2 (Dense)             (None, 16)                528       \n",
      "                                                                 \n",
      " dense_3 (Dense)             (None, 6)                 102       \n",
      "                                                                 \n",
      "=================================================================\n",
      "Total params: 1222 (4.77 KB)\n",
      "Trainable params: 1222 (4.77 KB)\n",
      "Non-trainable params: 0 (0.00 Byte)\n",
      "_________________________________________________________________\n"
     ]
    }
   ],
   "source": [
    "# Define MLP model architecture\n",
    "model = Sequential([\n",
    "    Dense(16, activation='relu', input_shape=(2,)),  # Input layer (2 features)\n",
    "    Dense(32, activation='relu'),  # Hidden layer\n",
    "    Dense(16, activation='relu'),  # Hidden layer\n",
    "    Dense(len(np.unique(y)), activation='softmax')  # Output layer (multiclass classification)\n",
    "])\n",
    "\n",
    "# Compile model\n",
    "model.compile(optimizer='adam', loss='sparse_categorical_crossentropy', metrics=['accuracy'])\n",
    "\n",
    "# Show model summary\n",
    "model.summary()\n"
   ]
  },
  {
   "cell_type": "code",
   "execution_count": 12,
   "id": "4c391d4f-9c31-4901-bd54-e0f58466fd2d",
   "metadata": {},
   "outputs": [
    {
     "name": "stdout",
     "output_type": "stream",
     "text": [
      "Epoch 1/50\n",
      "127/127 [==============================] - 1s 3ms/step - loss: 1.3295 - accuracy: 0.6516 - val_loss: 0.9109 - val_accuracy: 0.7704\n",
      "Epoch 2/50\n",
      "127/127 [==============================] - 0s 1ms/step - loss: 0.7013 - accuracy: 0.8139 - val_loss: 0.5396 - val_accuracy: 0.8404\n",
      "Epoch 3/50\n",
      "127/127 [==============================] - 0s 1ms/step - loss: 0.4670 - accuracy: 0.8703 - val_loss: 0.3880 - val_accuracy: 0.8916\n",
      "Epoch 4/50\n",
      "127/127 [==============================] - 0s 1ms/step - loss: 0.3607 - accuracy: 0.9011 - val_loss: 0.3093 - val_accuracy: 0.9212\n",
      "Epoch 5/50\n",
      "127/127 [==============================] - 0s 2ms/step - loss: 0.2992 - accuracy: 0.9231 - val_loss: 0.2582 - val_accuracy: 0.9261\n",
      "Epoch 6/50\n",
      "127/127 [==============================] - 0s 1ms/step - loss: 0.2582 - accuracy: 0.9295 - val_loss: 0.2274 - val_accuracy: 0.9222\n",
      "Epoch 7/50\n",
      "127/127 [==============================] - 0s 2ms/step - loss: 0.2305 - accuracy: 0.9354 - val_loss: 0.2033 - val_accuracy: 0.9438\n",
      "Epoch 8/50\n",
      "127/127 [==============================] - 0s 1ms/step - loss: 0.2077 - accuracy: 0.9433 - val_loss: 0.1986 - val_accuracy: 0.9251\n",
      "Epoch 9/50\n",
      "127/127 [==============================] - 0s 1ms/step - loss: 0.1938 - accuracy: 0.9443 - val_loss: 0.1708 - val_accuracy: 0.9488\n",
      "Epoch 10/50\n",
      "127/127 [==============================] - 0s 2ms/step - loss: 0.1844 - accuracy: 0.9470 - val_loss: 0.1629 - val_accuracy: 0.9527\n",
      "Epoch 11/50\n",
      "127/127 [==============================] - 0s 1ms/step - loss: 0.1715 - accuracy: 0.9497 - val_loss: 0.1570 - val_accuracy: 0.9458\n",
      "Epoch 12/50\n",
      "127/127 [==============================] - 0s 2ms/step - loss: 0.1628 - accuracy: 0.9522 - val_loss: 0.1473 - val_accuracy: 0.9576\n",
      "Epoch 13/50\n",
      "127/127 [==============================] - 0s 1ms/step - loss: 0.1588 - accuracy: 0.9514 - val_loss: 0.1383 - val_accuracy: 0.9606\n",
      "Epoch 14/50\n",
      "127/127 [==============================] - 0s 1ms/step - loss: 0.1505 - accuracy: 0.9539 - val_loss: 0.1345 - val_accuracy: 0.9586\n",
      "Epoch 15/50\n",
      "127/127 [==============================] - 0s 1ms/step - loss: 0.1449 - accuracy: 0.9529 - val_loss: 0.1328 - val_accuracy: 0.9576\n",
      "Epoch 16/50\n",
      "127/127 [==============================] - 0s 1ms/step - loss: 0.1397 - accuracy: 0.9581 - val_loss: 0.1262 - val_accuracy: 0.9586\n",
      "Epoch 17/50\n",
      "127/127 [==============================] - 0s 1ms/step - loss: 0.1365 - accuracy: 0.9573 - val_loss: 0.1224 - val_accuracy: 0.9645\n",
      "Epoch 18/50\n",
      "127/127 [==============================] - 0s 1ms/step - loss: 0.1341 - accuracy: 0.9551 - val_loss: 0.1242 - val_accuracy: 0.9606\n",
      "Epoch 19/50\n",
      "127/127 [==============================] - 0s 2ms/step - loss: 0.1272 - accuracy: 0.9601 - val_loss: 0.1207 - val_accuracy: 0.9586\n",
      "Epoch 20/50\n",
      "127/127 [==============================] - 0s 3ms/step - loss: 0.1255 - accuracy: 0.9601 - val_loss: 0.1140 - val_accuracy: 0.9645\n",
      "Epoch 21/50\n",
      "127/127 [==============================] - 0s 1ms/step - loss: 0.1234 - accuracy: 0.9598 - val_loss: 0.1108 - val_accuracy: 0.9645\n",
      "Epoch 22/50\n",
      "127/127 [==============================] - 0s 1ms/step - loss: 0.1210 - accuracy: 0.9610 - val_loss: 0.1134 - val_accuracy: 0.9675\n",
      "Epoch 23/50\n",
      "127/127 [==============================] - 0s 1ms/step - loss: 0.1167 - accuracy: 0.9640 - val_loss: 0.1079 - val_accuracy: 0.9616\n",
      "Epoch 24/50\n",
      "127/127 [==============================] - 0s 1ms/step - loss: 0.1124 - accuracy: 0.9647 - val_loss: 0.1095 - val_accuracy: 0.9665\n",
      "Epoch 25/50\n",
      "127/127 [==============================] - 0s 1ms/step - loss: 0.1151 - accuracy: 0.9623 - val_loss: 0.1089 - val_accuracy: 0.9576\n",
      "Epoch 26/50\n",
      "127/127 [==============================] - 0s 1ms/step - loss: 0.1109 - accuracy: 0.9630 - val_loss: 0.1070 - val_accuracy: 0.9645\n",
      "Epoch 27/50\n",
      "127/127 [==============================] - 0s 1ms/step - loss: 0.1056 - accuracy: 0.9650 - val_loss: 0.0980 - val_accuracy: 0.9764\n",
      "Epoch 28/50\n",
      "127/127 [==============================] - 0s 1ms/step - loss: 0.1035 - accuracy: 0.9689 - val_loss: 0.0977 - val_accuracy: 0.9626\n",
      "Epoch 29/50\n",
      "127/127 [==============================] - 0s 1ms/step - loss: 0.1014 - accuracy: 0.9684 - val_loss: 0.0950 - val_accuracy: 0.9695\n",
      "Epoch 30/50\n",
      "127/127 [==============================] - 0s 1ms/step - loss: 0.0997 - accuracy: 0.9672 - val_loss: 0.0931 - val_accuracy: 0.9764\n",
      "Epoch 31/50\n",
      "127/127 [==============================] - 0s 1ms/step - loss: 0.0993 - accuracy: 0.9684 - val_loss: 0.0975 - val_accuracy: 0.9724\n",
      "Epoch 32/50\n",
      "127/127 [==============================] - 0s 1ms/step - loss: 0.0958 - accuracy: 0.9684 - val_loss: 0.0894 - val_accuracy: 0.9724\n",
      "Epoch 33/50\n",
      "127/127 [==============================] - 0s 2ms/step - loss: 0.0935 - accuracy: 0.9704 - val_loss: 0.0887 - val_accuracy: 0.9744\n",
      "Epoch 34/50\n",
      "127/127 [==============================] - 0s 2ms/step - loss: 0.0930 - accuracy: 0.9709 - val_loss: 0.0827 - val_accuracy: 0.9744\n",
      "Epoch 35/50\n",
      "127/127 [==============================] - 0s 3ms/step - loss: 0.0895 - accuracy: 0.9719 - val_loss: 0.0915 - val_accuracy: 0.9704\n",
      "Epoch 36/50\n",
      "127/127 [==============================] - 0s 1ms/step - loss: 0.0886 - accuracy: 0.9746 - val_loss: 0.0809 - val_accuracy: 0.9783\n",
      "Epoch 37/50\n",
      "127/127 [==============================] - 0s 2ms/step - loss: 0.0871 - accuracy: 0.9739 - val_loss: 0.0835 - val_accuracy: 0.9783\n",
      "Epoch 38/50\n",
      "127/127 [==============================] - 0s 1ms/step - loss: 0.0874 - accuracy: 0.9731 - val_loss: 0.0851 - val_accuracy: 0.9685\n",
      "Epoch 39/50\n",
      "127/127 [==============================] - 0s 2ms/step - loss: 0.0851 - accuracy: 0.9756 - val_loss: 0.0848 - val_accuracy: 0.9754\n",
      "Epoch 40/50\n",
      "127/127 [==============================] - 0s 1ms/step - loss: 0.0850 - accuracy: 0.9753 - val_loss: 0.0821 - val_accuracy: 0.9734\n",
      "Epoch 41/50\n",
      "127/127 [==============================] - 0s 1ms/step - loss: 0.0815 - accuracy: 0.9751 - val_loss: 0.0800 - val_accuracy: 0.9783\n",
      "Epoch 42/50\n",
      "127/127 [==============================] - 0s 1ms/step - loss: 0.0813 - accuracy: 0.9753 - val_loss: 0.0759 - val_accuracy: 0.9833\n",
      "Epoch 43/50\n",
      "127/127 [==============================] - 0s 1ms/step - loss: 0.0797 - accuracy: 0.9746 - val_loss: 0.0727 - val_accuracy: 0.9842\n",
      "Epoch 44/50\n",
      "127/127 [==============================] - 0s 1ms/step - loss: 0.0797 - accuracy: 0.9768 - val_loss: 0.0796 - val_accuracy: 0.9734\n",
      "Epoch 45/50\n",
      "127/127 [==============================] - 0s 1ms/step - loss: 0.0763 - accuracy: 0.9768 - val_loss: 0.0716 - val_accuracy: 0.9852\n",
      "Epoch 46/50\n",
      "127/127 [==============================] - 0s 1ms/step - loss: 0.0753 - accuracy: 0.9790 - val_loss: 0.0702 - val_accuracy: 0.9833\n",
      "Epoch 47/50\n",
      "127/127 [==============================] - 0s 1ms/step - loss: 0.0757 - accuracy: 0.9783 - val_loss: 0.0733 - val_accuracy: 0.9793\n",
      "Epoch 48/50\n",
      "127/127 [==============================] - 0s 2ms/step - loss: 0.0756 - accuracy: 0.9763 - val_loss: 0.0750 - val_accuracy: 0.9783\n",
      "Epoch 49/50\n",
      "127/127 [==============================] - 0s 2ms/step - loss: 0.0740 - accuracy: 0.9783 - val_loss: 0.0678 - val_accuracy: 0.9813\n",
      "Epoch 50/50\n",
      "127/127 [==============================] - 0s 1ms/step - loss: 0.0725 - accuracy: 0.9768 - val_loss: 0.0671 - val_accuracy: 0.9823\n"
     ]
    }
   ],
   "source": [
    "# Train model with 50 epochs\n",
    "history = model.fit(X_train, y_train, epochs=50, validation_data=(X_test, y_test), batch_size=32)\n"
   ]
  },
  {
   "cell_type": "code",
   "execution_count": 13,
   "id": "c5892a15-6a79-4cda-b94b-c128888a86a5",
   "metadata": {},
   "outputs": [
    {
     "name": "stdout",
     "output_type": "stream",
     "text": [
      "32/32 [==============================] - 0s 997us/step - loss: 0.0671 - accuracy: 0.9823\n",
      "Test Accuracy: 0.9823\n"
     ]
    }
   ],
   "source": [
    "# Evaluate model on test set\n",
    "loss, accuracy = model.evaluate(X_test, y_test)\n",
    "print(f\"Test Accuracy: {accuracy:.4f}\")\n"
   ]
  },
  {
   "cell_type": "code",
   "execution_count": 14,
   "id": "99751352-d5fe-455a-833f-2790de9e925b",
   "metadata": {},
   "outputs": [
    {
     "name": "stdout",
     "output_type": "stream",
     "text": [
      "done\n"
     ]
    }
   ],
   "source": [
    "model.save(\"mlp4.keras\")\n",
    "print(\"done\")"
   ]
  }
 ],
 "metadata": {
  "kernelspec": {
   "display_name": "Python 3 (ipykernel)",
   "language": "python",
   "name": "python3"
  },
  "language_info": {
   "codemirror_mode": {
    "name": "ipython",
    "version": 3
   },
   "file_extension": ".py",
   "mimetype": "text/x-python",
   "name": "python",
   "nbconvert_exporter": "python",
   "pygments_lexer": "ipython3",
   "version": "3.11.4"
  }
 },
 "nbformat": 4,
 "nbformat_minor": 5
}
