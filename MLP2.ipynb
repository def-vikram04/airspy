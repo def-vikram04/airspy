{
 "cells": [
  {
   "cell_type": "code",
   "execution_count": 3,
   "id": "046dab83-81a9-4692-ae4a-42023bec4c3c",
   "metadata": {},
   "outputs": [],
   "source": [
    "import pandas as pd\n",
    "import numpy as np\n",
    "from sklearn.preprocessing import LabelEncoder, MinMaxScaler\n",
    "from sklearn.model_selection import train_test_split\n",
    "import tensorflow as tf\n",
    "from tensorflow.keras.models import Sequential\n",
    "from tensorflow.keras.layers import Dense\n"
   ]
  },
  {
   "cell_type": "code",
   "execution_count": 4,
   "id": "fc22e152-18c7-4b94-b239-bfc8db7b010c",
   "metadata": {},
   "outputs": [],
   "source": [
    "# Load the dataset\n",
    "df = pd.read_csv(\"data2.csv\")  # Ensure your file is named correctly\n",
    "\n",
    "# Drop 'Name' column\n",
    "df.drop(\"Name\", axis=1, inplace=True)\n",
    "\n",
    "# Encode 'Pollution Category' into numerical values\n",
    "encoder = LabelEncoder()\n",
    "df[\"Pollution Category\"] = encoder.fit_transform(df[\"Pollution Category\"])\n",
    "\n",
    "# Normalize PM2.5\n",
    "scaler = MinMaxScaler()\n",
    "df[\"PM2.5\"] = scaler.fit_transform(df[[\"PM2.5\"]])\n",
    "\n",
    "# Split into features (X) and labels (y)\n",
    "X = df[[\"PM2.5\"]].values  # Only one feature\n",
    "y = tf.keras.utils.to_categorical(df[\"Pollution Category\"])  # One-hot encoding\n"
   ]
  },
  {
   "cell_type": "code",
   "execution_count": 5,
   "id": "0f49279c-7a0c-4837-837a-ddff93aeb8ac",
   "metadata": {},
   "outputs": [],
   "source": [
    "X_train, X_test, y_train, y_test = train_test_split(X, y, test_size=0.2, random_state=42)\n"
   ]
  },
  {
   "cell_type": "code",
   "execution_count": 6,
   "id": "d15a54f8-795e-45ef-a447-8dec2e285dba",
   "metadata": {},
   "outputs": [
    {
     "name": "stdout",
     "output_type": "stream",
     "text": [
      "Model: \"sequential\"\n",
      "_________________________________________________________________\n",
      " Layer (type)                Output Shape              Param #   \n",
      "=================================================================\n",
      " dense (Dense)               (None, 16)                32        \n",
      "                                                                 \n",
      " dense_1 (Dense)             (None, 8)                 136       \n",
      "                                                                 \n",
      " dense_2 (Dense)             (None, 6)                 54        \n",
      "                                                                 \n",
      "=================================================================\n",
      "Total params: 222 (888.00 Byte)\n",
      "Trainable params: 222 (888.00 Byte)\n",
      "Non-trainable params: 0 (0.00 Byte)\n",
      "_________________________________________________________________\n"
     ]
    }
   ],
   "source": [
    "# Define MLP model\n",
    "model = Sequential([\n",
    "    Dense(16, activation=\"relu\", input_shape=(1,)),  # Single input feature\n",
    "    Dense(8, activation=\"relu\"),\n",
    "    Dense(y.shape[1], activation=\"softmax\")  # Output layer (multi-class classification)\n",
    "])\n",
    "\n",
    "# Compile the model\n",
    "model.compile(optimizer=\"adam\", loss=\"categorical_crossentropy\", metrics=[\"accuracy\"])\n",
    "\n",
    "model.summary()"
   ]
  },
  {
   "cell_type": "code",
   "execution_count": 7,
   "id": "42c7349b-8080-4f6b-af77-5270e8bf0076",
   "metadata": {},
   "outputs": [
    {
     "name": "stdout",
     "output_type": "stream",
     "text": [
      "Epoch 1/50\n",
      "413/413 [==============================] - 1s 2ms/step - loss: 1.5731 - accuracy: 0.8241 - val_loss: 1.3547 - val_accuracy: 0.8496\n",
      "Epoch 2/50\n",
      "413/413 [==============================] - 1s 2ms/step - loss: 1.1391 - accuracy: 0.8831 - val_loss: 0.9251 - val_accuracy: 0.9095\n",
      "Epoch 3/50\n",
      "413/413 [==============================] - 1s 1ms/step - loss: 0.7585 - accuracy: 0.9271 - val_loss: 0.6095 - val_accuracy: 0.9369\n",
      "Epoch 4/50\n",
      "413/413 [==============================] - 1s 1ms/step - loss: 0.5119 - accuracy: 0.9485 - val_loss: 0.4247 - val_accuracy: 0.9611\n",
      "Epoch 5/50\n",
      "413/413 [==============================] - 1s 1ms/step - loss: 0.3695 - accuracy: 0.9681 - val_loss: 0.3175 - val_accuracy: 0.9683\n",
      "Epoch 6/50\n",
      "413/413 [==============================] - 1s 1ms/step - loss: 0.2851 - accuracy: 0.9774 - val_loss: 0.2511 - val_accuracy: 0.9836\n",
      "Epoch 7/50\n",
      "413/413 [==============================] - 1s 1ms/step - loss: 0.2316 - accuracy: 0.9809 - val_loss: 0.2079 - val_accuracy: 0.9839\n",
      "Epoch 8/50\n",
      "413/413 [==============================] - 1s 1ms/step - loss: 0.1958 - accuracy: 0.9822 - val_loss: 0.1783 - val_accuracy: 0.9841\n",
      "Epoch 9/50\n",
      "413/413 [==============================] - 1s 1ms/step - loss: 0.1705 - accuracy: 0.9832 - val_loss: 0.1568 - val_accuracy: 0.9844\n",
      "Epoch 10/50\n",
      "413/413 [==============================] - 1s 1ms/step - loss: 0.1518 - accuracy: 0.9837 - val_loss: 0.1411 - val_accuracy: 0.9837\n",
      "Epoch 11/50\n",
      "413/413 [==============================] - 1s 1ms/step - loss: 0.1376 - accuracy: 0.9837 - val_loss: 0.1283 - val_accuracy: 0.9840\n",
      "Epoch 12/50\n",
      "413/413 [==============================] - 1s 1ms/step - loss: 0.1264 - accuracy: 0.9841 - val_loss: 0.1182 - val_accuracy: 0.9838\n",
      "Epoch 13/50\n",
      "413/413 [==============================] - 1s 1ms/step - loss: 0.1173 - accuracy: 0.9841 - val_loss: 0.1104 - val_accuracy: 0.9864\n",
      "Epoch 14/50\n",
      "413/413 [==============================] - 1s 1ms/step - loss: 0.1098 - accuracy: 0.9842 - val_loss: 0.1033 - val_accuracy: 0.9856\n",
      "Epoch 15/50\n",
      "413/413 [==============================] - 0s 1ms/step - loss: 0.1035 - accuracy: 0.9843 - val_loss: 0.0976 - val_accuracy: 0.9831\n",
      "Epoch 16/50\n",
      "413/413 [==============================] - 1s 1ms/step - loss: 0.0981 - accuracy: 0.9842 - val_loss: 0.0923 - val_accuracy: 0.9846\n",
      "Epoch 17/50\n",
      "413/413 [==============================] - 1s 1ms/step - loss: 0.0934 - accuracy: 0.9841 - val_loss: 0.0880 - val_accuracy: 0.9856\n",
      "Epoch 18/50\n",
      "413/413 [==============================] - 1s 1ms/step - loss: 0.0893 - accuracy: 0.9844 - val_loss: 0.0844 - val_accuracy: 0.9833\n",
      "Epoch 19/50\n",
      "413/413 [==============================] - 1s 1ms/step - loss: 0.0856 - accuracy: 0.9844 - val_loss: 0.0824 - val_accuracy: 0.9833\n",
      "Epoch 20/50\n",
      "413/413 [==============================] - 1s 1ms/step - loss: 0.0823 - accuracy: 0.9842 - val_loss: 0.0788 - val_accuracy: 0.9859\n",
      "Epoch 21/50\n",
      "413/413 [==============================] - 1s 1ms/step - loss: 0.0796 - accuracy: 0.9844 - val_loss: 0.0753 - val_accuracy: 0.9864\n",
      "Epoch 22/50\n",
      "413/413 [==============================] - 1s 1ms/step - loss: 0.0769 - accuracy: 0.9845 - val_loss: 0.0725 - val_accuracy: 0.9854\n",
      "Epoch 23/50\n",
      "413/413 [==============================] - 1s 1ms/step - loss: 0.0748 - accuracy: 0.9845 - val_loss: 0.0703 - val_accuracy: 0.9854\n",
      "Epoch 24/50\n",
      "413/413 [==============================] - 1s 1ms/step - loss: 0.0725 - accuracy: 0.9845 - val_loss: 0.0690 - val_accuracy: 0.9864\n",
      "Epoch 25/50\n",
      "413/413 [==============================] - 1s 1ms/step - loss: 0.0707 - accuracy: 0.9847 - val_loss: 0.0667 - val_accuracy: 0.9862\n",
      "Epoch 26/50\n",
      "413/413 [==============================] - 1s 1ms/step - loss: 0.0689 - accuracy: 0.9845 - val_loss: 0.0651 - val_accuracy: 0.9851\n",
      "Epoch 27/50\n",
      "413/413 [==============================] - 1s 2ms/step - loss: 0.0672 - accuracy: 0.9846 - val_loss: 0.0635 - val_accuracy: 0.9864\n",
      "Epoch 28/50\n",
      "413/413 [==============================] - 1s 1ms/step - loss: 0.0658 - accuracy: 0.9849 - val_loss: 0.0629 - val_accuracy: 0.9856\n",
      "Epoch 29/50\n",
      "413/413 [==============================] - 1s 1ms/step - loss: 0.0647 - accuracy: 0.9846 - val_loss: 0.0612 - val_accuracy: 0.9860\n",
      "Epoch 30/50\n",
      "413/413 [==============================] - 1s 1ms/step - loss: 0.0632 - accuracy: 0.9847 - val_loss: 0.0597 - val_accuracy: 0.9856\n",
      "Epoch 31/50\n",
      "413/413 [==============================] - 1s 1ms/step - loss: 0.0621 - accuracy: 0.9849 - val_loss: 0.0584 - val_accuracy: 0.9859\n",
      "Epoch 32/50\n",
      "413/413 [==============================] - 1s 1ms/step - loss: 0.0611 - accuracy: 0.9849 - val_loss: 0.0579 - val_accuracy: 0.9862\n",
      "Epoch 33/50\n",
      "413/413 [==============================] - 1s 1ms/step - loss: 0.0601 - accuracy: 0.9849 - val_loss: 0.0573 - val_accuracy: 0.9854\n",
      "Epoch 34/50\n",
      "413/413 [==============================] - 1s 1ms/step - loss: 0.0591 - accuracy: 0.9850 - val_loss: 0.0559 - val_accuracy: 0.9862\n",
      "Epoch 35/50\n",
      "413/413 [==============================] - 1s 1ms/step - loss: 0.0582 - accuracy: 0.9849 - val_loss: 0.0552 - val_accuracy: 0.9857\n",
      "Epoch 36/50\n",
      "413/413 [==============================] - 1s 1ms/step - loss: 0.0575 - accuracy: 0.9850 - val_loss: 0.0543 - val_accuracy: 0.9854\n",
      "Epoch 37/50\n",
      "413/413 [==============================] - 1s 1ms/step - loss: 0.0567 - accuracy: 0.9849 - val_loss: 0.0545 - val_accuracy: 0.9862\n",
      "Epoch 38/50\n",
      "413/413 [==============================] - 1s 1ms/step - loss: 0.0560 - accuracy: 0.9851 - val_loss: 0.0530 - val_accuracy: 0.9862\n",
      "Epoch 39/50\n",
      "413/413 [==============================] - 1s 1ms/step - loss: 0.0554 - accuracy: 0.9849 - val_loss: 0.0525 - val_accuracy: 0.9857\n",
      "Epoch 40/50\n",
      "413/413 [==============================] - 1s 1ms/step - loss: 0.0547 - accuracy: 0.9851 - val_loss: 0.0512 - val_accuracy: 0.9859\n",
      "Epoch 41/50\n",
      "413/413 [==============================] - 1s 1ms/step - loss: 0.0541 - accuracy: 0.9850 - val_loss: 0.0508 - val_accuracy: 0.9864\n",
      "Epoch 42/50\n",
      "413/413 [==============================] - 1s 2ms/step - loss: 0.0535 - accuracy: 0.9849 - val_loss: 0.0509 - val_accuracy: 0.9864\n",
      "Epoch 43/50\n",
      "413/413 [==============================] - 1s 1ms/step - loss: 0.0530 - accuracy: 0.9851 - val_loss: 0.0503 - val_accuracy: 0.9862\n",
      "Epoch 44/50\n",
      "413/413 [==============================] - 1s 1ms/step - loss: 0.0525 - accuracy: 0.9852 - val_loss: 0.0492 - val_accuracy: 0.9859\n",
      "Epoch 45/50\n",
      "413/413 [==============================] - 1s 1ms/step - loss: 0.0521 - accuracy: 0.9854 - val_loss: 0.0496 - val_accuracy: 0.9851\n",
      "Epoch 46/50\n",
      "413/413 [==============================] - 1s 2ms/step - loss: 0.0515 - accuracy: 0.9858 - val_loss: 0.0487 - val_accuracy: 0.9869\n",
      "Epoch 47/50\n",
      "413/413 [==============================] - 1s 2ms/step - loss: 0.0511 - accuracy: 0.9861 - val_loss: 0.0484 - val_accuracy: 0.9871\n",
      "Epoch 48/50\n",
      "413/413 [==============================] - 1s 1ms/step - loss: 0.0507 - accuracy: 0.9863 - val_loss: 0.0478 - val_accuracy: 0.9865\n",
      "Epoch 49/50\n",
      "413/413 [==============================] - 1s 1ms/step - loss: 0.0503 - accuracy: 0.9869 - val_loss: 0.0470 - val_accuracy: 0.9887\n",
      "Epoch 50/50\n",
      "413/413 [==============================] - 1s 1ms/step - loss: 0.0498 - accuracy: 0.9870 - val_loss: 0.0469 - val_accuracy: 0.9879\n"
     ]
    },
    {
     "data": {
      "text/plain": [
       "<keras.src.callbacks.History at 0x1abac590090>"
      ]
     },
     "execution_count": 7,
     "metadata": {},
     "output_type": "execute_result"
    }
   ],
   "source": [
    "# Train the model\n",
    "model.fit(X_train, y_train, epochs=50, batch_size=256, validation_data=(X_test, y_test))\n"
   ]
  },
  {
   "cell_type": "code",
   "execution_count": 8,
   "id": "2964f854-ca61-47e4-ae52-11bee3e59501",
   "metadata": {},
   "outputs": [
    {
     "name": "stdout",
     "output_type": "stream",
     "text": [
      "826/826 [==============================] - 1s 763us/step - loss: 0.0469 - accuracy: 0.9879\n",
      "Test Accuracy: 0.9879\n"
     ]
    }
   ],
   "source": [
    "loss, accuracy = model.evaluate(X_test, y_test)\n",
    "print(f\"Test Accuracy: {accuracy:.4f}\")\n"
   ]
  },
  {
   "cell_type": "code",
   "execution_count": 9,
   "id": "b49d80ca-4b56-4a85-ade2-9b2d55b469c8",
   "metadata": {},
   "outputs": [
    {
     "name": "stdout",
     "output_type": "stream",
     "text": [
      "done\n"
     ]
    }
   ],
   "source": [
    "# Save the trained model\n",
    "model.save(\"mlp2.keras\")\n",
    "print(\"done\")"
   ]
  }
 ],
 "metadata": {
  "kernelspec": {
   "display_name": "Python 3 (ipykernel)",
   "language": "python",
   "name": "python3"
  },
  "language_info": {
   "codemirror_mode": {
    "name": "ipython",
    "version": 3
   },
   "file_extension": ".py",
   "mimetype": "text/x-python",
   "name": "python",
   "nbconvert_exporter": "python",
   "pygments_lexer": "ipython3",
   "version": "3.11.4"
  }
 },
 "nbformat": 4,
 "nbformat_minor": 5
}
