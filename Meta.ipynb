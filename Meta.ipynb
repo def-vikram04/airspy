{
 "cells": [
  {
   "cell_type": "code",
   "execution_count": 7,
   "id": "57dbd84a-ebb9-4d11-aa39-a4ab54600c23",
   "metadata": {},
   "outputs": [
    {
     "name": "stdout",
     "output_type": "stream",
     "text": [
      "✅ All models loaded successfully!\n"
     ]
    }
   ],
   "source": [
    "import joblib\n",
    "import tensorflow as tf\n",
    "\n",
    "# Load trained models\n",
    "model_1 = tf.keras.models.load_model(\"mlp1.keras\")\n",
    "model_2 = tf.keras.models.load_model(\"mlp2.keras\")\n",
    "model_3 = tf.keras.models.load_model(\"mlp3.keras\")\n",
    "model_4 = tf.keras.models.load_model(\"mlp4.keras\")\n",
    "\n",
    "print(\"✅ All models loaded successfully!\")\n"
   ]
  },
  {
   "cell_type": "code",
   "execution_count": 8,
   "id": "138a917b-175e-4692-9a11-d7cacfcae8c5",
   "metadata": {},
   "outputs": [
    {
     "name": "stdin",
     "output_type": "stream",
     "text": [
      "Enter NO2 concentration:  100\n",
      "Enter O3 concentration:  100\n",
      "Enter PM2.5 concentration:  100\n",
      "Enter PM10 concentration:  100\n",
      "Enter SO2 concentration:  100\n",
      "Enter CO concentration:  100\n"
     ]
    },
    {
     "name": "stdout",
     "output_type": "stream",
     "text": [
      "\n",
      "✅ Inputs Captured Successfully!\n"
     ]
    }
   ],
   "source": [
    "import numpy as np\n",
    "\n",
    "# Take input from user\n",
    "no2 = float(input(\"Enter NO2 concentration: \"))\n",
    "o3 = float(input(\"Enter O3 concentration: \"))\n",
    "pm25 = float(input(\"Enter PM2.5 concentration: \"))\n",
    "pm10 = float(input(\"Enter PM10 concentration: \"))\n",
    "so2 = float(input(\"Enter SO2 concentration: \"))\n",
    "co = float(input(\"Enter CO concentration: \"))\n",
    "\n",
    "# Reshape inputs as required by models\n",
    "input_1 = np.array([[no2, o3]])      # For Model 1 (NO2 & O3)\n",
    "input_2 = np.array([[pm25]])         # For Model 2 (PM2.5)\n",
    "input_3 = np.array([[pm10]])         # For Model 3 (PM10)\n",
    "input_4 = np.array([[so2, co]])      # For Model 4 (SO2 & CO)\n",
    "\n",
    "print(\"\\n✅ Inputs Captured Successfully!\")\n"
   ]
  },
  {
   "cell_type": "code",
   "execution_count": 9,
   "id": "68fa907c-7d25-4099-baad-812ec0151f03",
   "metadata": {},
   "outputs": [
    {
     "name": "stdout",
     "output_type": "stream",
     "text": [
      "1/1 [==============================] - 0s 258ms/step\n",
      "1/1 [==============================] - 0s 142ms/step\n",
      "1/1 [==============================] - 0s 144ms/step\n",
      "1/1 [==============================] - 0s 179ms/step\n",
      "\n",
      "🔹 Predictions from Base Models:\n",
      "Model-1 (NO2 & O3) → [[0. 0. 0. 0. 0. 1.]]\n",
      "Model-2 (PM2.5) → [[0. 0. 0. 0. 1. 0.]]\n",
      "Model-3 (PM10) → [[0.000000e+00 0.000000e+00 0.000000e+00 0.000000e+00 9.363498e-10\n",
      "  1.000000e+00]]\n",
      "Model-4 (SO2 & CO) → [[0.0000000e+00 0.0000000e+00 0.0000000e+00 0.0000000e+00 4.8683202e-14\n",
      "  1.0000000e+00]]\n"
     ]
    }
   ],
   "source": [
    "# Get predictions from models\n",
    "pred_1 = model_1.predict(input_1)\n",
    "pred_2 = model_2.predict(input_2)\n",
    "pred_3 = model_3.predict(input_3)\n",
    "pred_4 = model_4.predict(input_4)\n",
    "\n",
    "# Print results\n",
    "print(\"\\n🔹 Predictions from Base Models:\")\n",
    "print(f\"Model-1 (NO2 & O3) → {pred_1}\")\n",
    "print(f\"Model-2 (PM2.5) → {pred_2}\")\n",
    "print(f\"Model-3 (PM10) → {pred_3}\")\n",
    "print(f\"Model-4 (SO2 & CO) → {pred_4}\")\n"
   ]
  },
  {
   "cell_type": "code",
   "execution_count": 26,
   "id": "b3ef0636-da2d-4ce4-9b8a-ebb51e6bd420",
   "metadata": {},
   "outputs": [
    {
     "name": "stdout",
     "output_type": "stream",
     "text": [
      "\n",
      "✅ Meta-Classifier Input Prepared: [[0.0000000e+00 0.0000000e+00 0.0000000e+00 0.0000000e+00 0.0000000e+00\n",
      "  1.0000000e+00 0.0000000e+00 0.0000000e+00 0.0000000e+00 0.0000000e+00\n",
      "  1.0000000e+00 0.0000000e+00 0.0000000e+00 0.0000000e+00 0.0000000e+00\n",
      "  0.0000000e+00 9.3634978e-10 1.0000000e+00 0.0000000e+00 0.0000000e+00\n",
      "  0.0000000e+00 0.0000000e+00 4.8683202e-14 1.0000000e+00]]\n"
     ]
    }
   ],
   "source": [
    "# Stack predictions to create a single input for meta-classifier\n",
    "meta_input = np.hstack([pred_1, pred_2, pred_3, pred_4])\n",
    "\n",
    "print(\"\\n✅ Meta-Classifier Input Prepared:\", meta_input)\n"
   ]
  },
  {
   "cell_type": "code",
   "execution_count": 28,
   "id": "660acffb-3139-43d4-bf69-d00789a9ee13",
   "metadata": {},
   "outputs": [
    {
     "name": "stdout",
     "output_type": "stream",
     "text": [
      "1/1 [==============================] - 0s 72ms/step\n",
      "\n",
      "🚀 Final Predicted Air Quality Category: 🚨 Borderline Air Quality 🚨\n"
     ]
    }
   ],
   "source": [
    "import numpy as np\n",
    "import tensorflow as tf\n",
    "\n",
    "# Ensure meta_input is always a NumPy array of shape (1, 24)\n",
    "meta_input = np.hstack([pred_1, pred_2, pred_3, pred_4]).reshape(1, 24)  # Reshape properly\n",
    "\n",
    "# Convert to a TensorFlow tensor before passing to the model (optional but recommended)\n",
    "meta_input = tf.convert_to_tensor(meta_input, dtype=tf.float32)\n",
    "\n",
    "# Predict final category\n",
    "final_prediction = meta_classifier.predict(meta_input)\n",
    "\n",
    "# Get the index with the highest probability\n",
    "predicted_category = np.argmax(final_prediction) + 1  # Adjust indexing (1-based)\n",
    "\n",
    "# Dictionary to map predicted category to meaningful labels\n",
    "air_quality_labels = {\n",
    "    1: \"Very Good\",\n",
    "    2: \"Good\",\n",
    "    3: \"Satisfactory\",\n",
    "    4: \"🚨 Borderline Air Quality 🚨\",\n",
    "    5: \"Poor\",\n",
    "    6: \"Very Poor\"\n",
    "}\n",
    "\n",
    "# Get the final category name\n",
    "final_category = air_quality_labels.get(predicted_category, \"Unknown Category\")\n",
    "\n",
    "# Print the result\n",
    "print(f\"\\n🚀 Final Predicted Air Quality Category: {final_category}\")\n"
   ]
  }
 ],
 "metadata": {
  "kernelspec": {
   "display_name": "Python 3 (ipykernel)",
   "language": "python",
   "name": "python3"
  },
  "language_info": {
   "codemirror_mode": {
    "name": "ipython",
    "version": 3
   },
   "file_extension": ".py",
   "mimetype": "text/x-python",
   "name": "python",
   "nbconvert_exporter": "python",
   "pygments_lexer": "ipython3",
   "version": "3.11.4"
  }
 },
 "nbformat": 4,
 "nbformat_minor": 5
}
