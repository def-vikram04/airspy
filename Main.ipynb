{
 "cells": [
  {
   "cell_type": "code",
   "execution_count": 5,
   "id": "074937b2-b260-47a6-a8e9-8c8a9a551895",
   "metadata": {},
   "outputs": [
    {
     "name": "stdout",
     "output_type": "stream",
     "text": [
      "done\n"
     ]
    }
   ],
   "source": [
    "from tensorflow.keras.models import load_model\n",
    "\n",
    "# Load all 4 trained models\n",
    "model_1 = load_model('mlp1.keras')  # NO2 & O3 → Pollution Category\n",
    "model_2 = load_model('mlp2.keras')  # PM2.5 → Pollution Category\n",
    "model_3 = load_model('mlp3.keras')  # PM10 → Pollution Category\n",
    "model_4 = load_model('mlp4.keras')  # SO2 & CO → Pollution Category\n",
    "model_5 = load_model('mlp5.keras')\n",
    "print(\"done\")\n"
   ]
  },
  {
   "cell_type": "code",
   "execution_count": 7,
   "id": "83aa4993-63f3-4542-a4fe-b0617c1fa42c",
   "metadata": {},
   "outputs": [
    {
     "name": "stdin",
     "output_type": "stream",
     "text": [
      "Enter NO2 value:  100\n",
      "Enter O3 value:  100\n",
      "Enter PM2.5 value:  100\n",
      "Enter PM10 value:  100\n",
      "Enter SO2 value:  100\n",
      "Enter CO value:  100\n"
     ]
    },
    {
     "name": "stdout",
     "output_type": "stream",
     "text": [
      "WARNING:tensorflow:6 out of the last 6 calls to <function Model.make_predict_function.<locals>.predict_function at 0x000001FEAC0BFB00> triggered tf.function retracing. Tracing is expensive and the excessive number of tracings could be due to (1) creating @tf.function repeatedly in a loop, (2) passing tensors with different shapes, (3) passing Python objects instead of tensors. For (1), please define your @tf.function outside of the loop. For (2), @tf.function has reduce_retracing=True option that can avoid unnecessary retracing. For (3), please refer to https://www.tensorflow.org/guide/function#controlling_retracing and https://www.tensorflow.org/api_docs/python/tf/function for  more details.\n",
      "1/1 [==============================] - 0s 47ms/step\n",
      "1/1 [==============================] - 0s 60ms/step\n",
      "1/1 [==============================] - 0s 45ms/step\n",
      "1/1 [==============================] - 0s 72ms/step\n",
      "\n",
      "Predicted Pollution Categories from first 4 models:\n",
      "Model-1 (NO2 & O3) → [[0. 0. 0. 0. 0. 1.]]\n",
      "Model-2 (PM2.5) → [[0. 0. 0. 0. 1. 0.]]\n",
      "Model-3 (PM10) → [[0.000000e+00 0.000000e+00 0.000000e+00 0.000000e+00 9.363498e-10\n",
      "  1.000000e+00]]\n",
      "Model-4 (SO2 & CO) → [[0.0000000e+00 0.0000000e+00 0.0000000e+00 0.0000000e+00 4.8683202e-14\n",
      "  1.0000000e+00]]\n"
     ]
    }
   ],
   "source": [
    "import numpy as np\n",
    "\n",
    "# Take user input\n",
    "no2 = float(input(\"Enter NO2 value: \"))\n",
    "o3 = float(input(\"Enter O3 value: \"))\n",
    "pm25 = float(input(\"Enter PM2.5 value: \"))\n",
    "pm10 = float(input(\"Enter PM10 value: \"))\n",
    "so2 = float(input(\"Enter SO2 value: \"))\n",
    "co = float(input(\"Enter CO value: \"))\n",
    "\n",
    "# Convert inputs to numpy arrays and reshape for model input\n",
    "input_1 = np.array([[no2, o3]])     # Model-1 (NO2 & O3)\n",
    "input_2 = np.array([[pm25]])        # Model-2 (PM2.5)\n",
    "input_3 = np.array([[pm10]])        # Model-3 (PM10)\n",
    "input_4 = np.array([[so2, co]])     # Model-4 (SO2 & CO)\n",
    "\n",
    "# Predict outputs from first 4 models\n",
    "output_1 = model_1.predict(input_1)\n",
    "output_2 = model_2.predict(input_2)\n",
    "output_3 = model_3.predict(input_3)\n",
    "output_4 = model_4.predict(input_4)\n",
    "\n",
    "print(\"\\nPredicted Pollution Categories from first 4 models:\")\n",
    "print(f\"Model-1 (NO2 & O3) → {output_1}\")\n",
    "print(f\"Model-2 (PM2.5) → {output_2}\")\n",
    "print(f\"Model-3 (PM10) → {output_3}\")\n",
    "print(f\"Model-4 (SO2 & CO) → {output_4}\")\n"
   ]
  },
  {
   "cell_type": "code",
   "execution_count": 8,
   "id": "f287e835-d25b-4a0c-9932-4050d5136ce1",
   "metadata": {},
   "outputs": [
    {
     "name": "stdout",
     "output_type": "stream",
     "text": [
      "1/1 [==============================] - 0s 20ms/step\n",
      "\n",
      "Final Predicted Pollution Category:\n",
      "[[1.1684716e-08 1.0000000e+00]]\n"
     ]
    }
   ],
   "source": [
    "\n",
    "# Flatten the outputs and concatenate them as input for Model-5\n",
    "final_input = np.concatenate((output_1.flatten(), output_2.flatten(), output_3.flatten(), output_4.flatten())).reshape(1, -1)\n",
    "\n",
    "# Predict final pollution category using Model-5\n",
    "final_output = model_5.predict(final_input)\n",
    "\n",
    "print(\"\\nFinal Predicted Pollution Category:\")\n",
    "print(final_output)"
   ]
  }
 ],
 "metadata": {
  "kernelspec": {
   "display_name": "Python 3 (ipykernel)",
   "language": "python",
   "name": "python3"
  },
  "language_info": {
   "codemirror_mode": {
    "name": "ipython",
    "version": 3
   },
   "file_extension": ".py",
   "mimetype": "text/x-python",
   "name": "python",
   "nbconvert_exporter": "python",
   "pygments_lexer": "ipython3",
   "version": "3.11.4"
  }
 },
 "nbformat": 4,
 "nbformat_minor": 5
}
