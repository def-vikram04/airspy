{
 "cells": [
  {
   "cell_type": "code",
   "execution_count": 2,
   "id": "6f0aded7-9b83-45f2-9c8c-4344d6eb9ab8",
   "metadata": {},
   "outputs": [],
   "source": [
    "import pandas as pd\n",
    "import numpy as np\n",
    "import tensorflow as tf\n",
    "from sklearn.model_selection import train_test_split\n",
    "from sklearn.preprocessing import LabelEncoder, StandardScaler\n"
   ]
  },
  {
   "cell_type": "code",
   "execution_count": 3,
   "id": "06200981-ba36-4b3f-ae5a-580b13aa8a3a",
   "metadata": {},
   "outputs": [
    {
     "name": "stdout",
     "output_type": "stream",
     "text": [
      "        Name  PM10 (µg/m³) Pollution Category\n",
      "0  Ghaziabad         102.4   3 - Satisfactory\n",
      "1  Ghaziabad          93.6           2 - Good\n",
      "2  Ghaziabad         125.3   3 - Satisfactory\n",
      "3  Ghaziabad         152.7   3 - Satisfactory\n",
      "4  Ghaziabad         108.3   3 - Satisfactory\n"
     ]
    }
   ],
   "source": [
    "# Assuming the dataset is stored in 'pm10_data.csv'\n",
    "df = pd.read_csv(\"data3.csv\")\n",
    "\n",
    "# Display first few rows\n",
    "print(df.head())\n"
   ]
  },
  {
   "cell_type": "code",
   "execution_count": 4,
   "id": "1e833e98-8a1d-439d-b11d-7aee1097ff06",
   "metadata": {},
   "outputs": [],
   "source": [
    "# Extract features and target\n",
    "X = df[['PM10 (µg/m³)']].values  # Feature\n",
    "y = df['Pollution Category'].values  # Target\n",
    "\n",
    "# Encode categorical labels\n",
    "label_encoder = LabelEncoder()\n",
    "y_encoded = label_encoder.fit_transform(y)\n",
    "\n",
    "# Scale the input feature\n",
    "scaler = StandardScaler()\n",
    "X_scaled = scaler.fit_transform(X)\n",
    "\n",
    "# Split dataset into training & testing\n",
    "X_train, X_test, y_train, y_test = train_test_split(X_scaled, y_encoded, test_size=0.2, random_state=42)\n"
   ]
  },
  {
   "cell_type": "code",
   "execution_count": 5,
   "id": "24db5a4e-d4d6-44c5-91f6-75c0e89356ab",
   "metadata": {},
   "outputs": [
    {
     "name": "stdout",
     "output_type": "stream",
     "text": [
      "Model: \"sequential\"\n",
      "_________________________________________________________________\n",
      " Layer (type)                Output Shape              Param #   \n",
      "=================================================================\n",
      " dense (Dense)               (None, 64)                128       \n",
      "                                                                 \n",
      " dense_1 (Dense)             (None, 32)                2080      \n",
      "                                                                 \n",
      " dense_2 (Dense)             (None, 6)                 198       \n",
      "                                                                 \n",
      "=================================================================\n",
      "Total params: 2406 (9.40 KB)\n",
      "Trainable params: 2406 (9.40 KB)\n",
      "Non-trainable params: 0 (0.00 Byte)\n",
      "_________________________________________________________________\n"
     ]
    }
   ],
   "source": [
    "# Define MLP model\n",
    "model = tf.keras.models.Sequential([\n",
    "    tf.keras.layers.Dense(64, activation='relu', input_shape=(1,)),\n",
    "    tf.keras.layers.Dense(32, activation='relu'),\n",
    "    tf.keras.layers.Dense(len(np.unique(y_encoded)), activation='softmax')  # Output layer\n",
    "])\n",
    "\n",
    "# Compile model\n",
    "model.compile(optimizer='adam', loss='sparse_categorical_crossentropy', metrics=['accuracy'])\n",
    "\n",
    "# Model summary\n",
    "model.summary()\n"
   ]
  },
  {
   "cell_type": "code",
   "execution_count": 6,
   "id": "b11624fc-43a3-461b-912b-fd604258d080",
   "metadata": {},
   "outputs": [
    {
     "name": "stdout",
     "output_type": "stream",
     "text": [
      "Epoch 1/50\n",
      "413/413 [==============================] - 1s 2ms/step - loss: 0.4253 - accuracy: 0.9468 - val_loss: 0.1353 - val_accuracy: 0.9754\n",
      "Epoch 2/50\n",
      "413/413 [==============================] - 0s 1ms/step - loss: 0.0995 - accuracy: 0.9820 - val_loss: 0.0783 - val_accuracy: 0.9842\n",
      "Epoch 3/50\n",
      "413/413 [==============================] - 0s 1ms/step - loss: 0.0685 - accuracy: 0.9850 - val_loss: 0.0627 - val_accuracy: 0.9854\n",
      "Epoch 4/50\n",
      "413/413 [==============================] - 1s 1ms/step - loss: 0.0561 - accuracy: 0.9863 - val_loss: 0.0527 - val_accuracy: 0.9873\n",
      "Epoch 5/50\n",
      "413/413 [==============================] - 0s 1ms/step - loss: 0.0484 - accuracy: 0.9864 - val_loss: 0.0504 - val_accuracy: 0.9861\n",
      "Epoch 6/50\n",
      "413/413 [==============================] - 0s 1ms/step - loss: 0.0426 - accuracy: 0.9878 - val_loss: 0.0418 - val_accuracy: 0.9870\n",
      "Epoch 7/50\n",
      "413/413 [==============================] - 0s 1ms/step - loss: 0.0380 - accuracy: 0.9887 - val_loss: 0.0380 - val_accuracy: 0.9861\n",
      "Epoch 8/50\n",
      "413/413 [==============================] - 0s 1ms/step - loss: 0.0342 - accuracy: 0.9899 - val_loss: 0.0362 - val_accuracy: 0.9888\n",
      "Epoch 9/50\n",
      "413/413 [==============================] - 0s 1ms/step - loss: 0.0318 - accuracy: 0.9906 - val_loss: 0.0334 - val_accuracy: 0.9921\n",
      "Epoch 10/50\n",
      "413/413 [==============================] - 1s 1ms/step - loss: 0.0293 - accuracy: 0.9917 - val_loss: 0.0295 - val_accuracy: 0.9888\n",
      "Epoch 11/50\n",
      "413/413 [==============================] - 0s 1ms/step - loss: 0.0278 - accuracy: 0.9912 - val_loss: 0.0282 - val_accuracy: 0.9936\n",
      "Epoch 12/50\n",
      "413/413 [==============================] - 0s 1ms/step - loss: 0.0251 - accuracy: 0.9929 - val_loss: 0.0273 - val_accuracy: 0.9891\n",
      "Epoch 13/50\n",
      "413/413 [==============================] - 0s 1ms/step - loss: 0.0242 - accuracy: 0.9924 - val_loss: 0.0287 - val_accuracy: 0.9882\n",
      "Epoch 14/50\n",
      "413/413 [==============================] - 1s 1ms/step - loss: 0.0224 - accuracy: 0.9939 - val_loss: 0.0290 - val_accuracy: 0.9882\n",
      "Epoch 15/50\n",
      "413/413 [==============================] - 1s 1ms/step - loss: 0.0225 - accuracy: 0.9930 - val_loss: 0.0260 - val_accuracy: 0.9903\n",
      "Epoch 16/50\n",
      "413/413 [==============================] - 1s 2ms/step - loss: 0.0212 - accuracy: 0.9935 - val_loss: 0.0221 - val_accuracy: 0.9930\n",
      "Epoch 17/50\n",
      "413/413 [==============================] - 1s 1ms/step - loss: 0.0200 - accuracy: 0.9939 - val_loss: 0.0282 - val_accuracy: 0.9891\n",
      "Epoch 18/50\n",
      "413/413 [==============================] - 1s 1ms/step - loss: 0.0194 - accuracy: 0.9935 - val_loss: 0.0211 - val_accuracy: 0.9921\n",
      "Epoch 19/50\n",
      "413/413 [==============================] - 1s 1ms/step - loss: 0.0188 - accuracy: 0.9939 - val_loss: 0.0206 - val_accuracy: 0.9915\n",
      "Epoch 20/50\n",
      "413/413 [==============================] - 1s 1ms/step - loss: 0.0192 - accuracy: 0.9936 - val_loss: 0.0211 - val_accuracy: 0.9924\n",
      "Epoch 21/50\n",
      "413/413 [==============================] - 0s 1ms/step - loss: 0.0178 - accuracy: 0.9936 - val_loss: 0.0177 - val_accuracy: 0.9945\n",
      "Epoch 22/50\n",
      "413/413 [==============================] - 1s 1ms/step - loss: 0.0177 - accuracy: 0.9939 - val_loss: 0.0209 - val_accuracy: 0.9909\n",
      "Epoch 23/50\n",
      "413/413 [==============================] - 1s 1ms/step - loss: 0.0173 - accuracy: 0.9936 - val_loss: 0.0186 - val_accuracy: 0.9936\n",
      "Epoch 24/50\n",
      "413/413 [==============================] - 1s 1ms/step - loss: 0.0162 - accuracy: 0.9939 - val_loss: 0.0198 - val_accuracy: 0.9915\n",
      "Epoch 25/50\n",
      "413/413 [==============================] - 1s 1ms/step - loss: 0.0162 - accuracy: 0.9940 - val_loss: 0.0159 - val_accuracy: 0.9958\n",
      "Epoch 26/50\n",
      "413/413 [==============================] - 0s 1ms/step - loss: 0.0156 - accuracy: 0.9943 - val_loss: 0.0194 - val_accuracy: 0.9924\n",
      "Epoch 27/50\n",
      "413/413 [==============================] - 0s 1ms/step - loss: 0.0151 - accuracy: 0.9943 - val_loss: 0.0162 - val_accuracy: 0.9945\n",
      "Epoch 28/50\n",
      "413/413 [==============================] - 0s 1ms/step - loss: 0.0143 - accuracy: 0.9949 - val_loss: 0.0207 - val_accuracy: 0.9921\n",
      "Epoch 29/50\n",
      "413/413 [==============================] - 0s 1ms/step - loss: 0.0150 - accuracy: 0.9944 - val_loss: 0.0159 - val_accuracy: 0.9942\n",
      "Epoch 30/50\n",
      "413/413 [==============================] - 1s 2ms/step - loss: 0.0152 - accuracy: 0.9935 - val_loss: 0.0223 - val_accuracy: 0.9909\n",
      "Epoch 31/50\n",
      "413/413 [==============================] - 0s 1ms/step - loss: 0.0146 - accuracy: 0.9940 - val_loss: 0.0155 - val_accuracy: 0.9945\n",
      "Epoch 32/50\n",
      "413/413 [==============================] - 0s 1ms/step - loss: 0.0137 - accuracy: 0.9949 - val_loss: 0.0158 - val_accuracy: 0.9921\n",
      "Epoch 33/50\n",
      "413/413 [==============================] - 1s 1ms/step - loss: 0.0140 - accuracy: 0.9948 - val_loss: 0.0147 - val_accuracy: 0.9927\n",
      "Epoch 34/50\n",
      "413/413 [==============================] - 0s 1ms/step - loss: 0.0134 - accuracy: 0.9948 - val_loss: 0.0230 - val_accuracy: 0.9909\n",
      "Epoch 35/50\n",
      "413/413 [==============================] - 1s 1ms/step - loss: 0.0147 - accuracy: 0.9946 - val_loss: 0.0151 - val_accuracy: 0.9927\n",
      "Epoch 36/50\n",
      "413/413 [==============================] - 1s 1ms/step - loss: 0.0139 - accuracy: 0.9947 - val_loss: 0.0149 - val_accuracy: 0.9942\n",
      "Epoch 37/50\n",
      "413/413 [==============================] - 1s 2ms/step - loss: 0.0131 - accuracy: 0.9949 - val_loss: 0.0152 - val_accuracy: 0.9945\n",
      "Epoch 38/50\n",
      "413/413 [==============================] - 0s 1ms/step - loss: 0.0130 - accuracy: 0.9950 - val_loss: 0.0139 - val_accuracy: 0.9933\n",
      "Epoch 39/50\n",
      "413/413 [==============================] - 1s 1ms/step - loss: 0.0128 - accuracy: 0.9951 - val_loss: 0.0174 - val_accuracy: 0.9927\n",
      "Epoch 40/50\n",
      "413/413 [==============================] - 1s 1ms/step - loss: 0.0130 - accuracy: 0.9948 - val_loss: 0.0138 - val_accuracy: 0.9948\n",
      "Epoch 41/50\n",
      "413/413 [==============================] - 1s 2ms/step - loss: 0.0128 - accuracy: 0.9950 - val_loss: 0.0149 - val_accuracy: 0.9936\n",
      "Epoch 42/50\n",
      "413/413 [==============================] - 1s 1ms/step - loss: 0.0128 - accuracy: 0.9950 - val_loss: 0.0197 - val_accuracy: 0.9921\n",
      "Epoch 43/50\n",
      "413/413 [==============================] - 0s 1ms/step - loss: 0.0120 - accuracy: 0.9951 - val_loss: 0.0147 - val_accuracy: 0.9918\n",
      "Epoch 44/50\n",
      "413/413 [==============================] - 1s 1ms/step - loss: 0.0120 - accuracy: 0.9945 - val_loss: 0.0150 - val_accuracy: 0.9924\n",
      "Epoch 45/50\n",
      "413/413 [==============================] - 1s 1ms/step - loss: 0.0131 - accuracy: 0.9950 - val_loss: 0.0121 - val_accuracy: 0.9967\n",
      "Epoch 46/50\n",
      "413/413 [==============================] - 0s 1ms/step - loss: 0.0113 - accuracy: 0.9960 - val_loss: 0.0185 - val_accuracy: 0.9918\n",
      "Epoch 47/50\n",
      "413/413 [==============================] - 1s 1ms/step - loss: 0.0116 - accuracy: 0.9957 - val_loss: 0.0136 - val_accuracy: 0.9951\n",
      "Epoch 48/50\n",
      "413/413 [==============================] - 1s 2ms/step - loss: 0.0118 - accuracy: 0.9955 - val_loss: 0.0125 - val_accuracy: 0.9955\n",
      "Epoch 49/50\n",
      "413/413 [==============================] - 1s 1ms/step - loss: 0.0103 - accuracy: 0.9962 - val_loss: 0.0152 - val_accuracy: 0.9945\n",
      "Epoch 50/50\n",
      "413/413 [==============================] - 1s 1ms/step - loss: 0.0122 - accuracy: 0.9948 - val_loss: 0.0126 - val_accuracy: 0.9942\n"
     ]
    }
   ],
   "source": [
    "# Train model\n",
    "history = model.fit(X_train, y_train, epochs=50, batch_size=32, validation_data=(X_test, y_test))\n"
   ]
  },
  {
   "cell_type": "code",
   "execution_count": 7,
   "id": "eb21b35f-71a2-45ec-8ca2-754fee4f8942",
   "metadata": {},
   "outputs": [
    {
     "name": "stdout",
     "output_type": "stream",
     "text": [
      "104/104 [==============================] - 0s 876us/step - loss: 0.0126 - accuracy: 0.9942\n",
      "Test Accuracy: 0.9942\n"
     ]
    }
   ],
   "source": [
    "# Evaluate performance\n",
    "test_loss, test_acc = model.evaluate(X_test, y_test)\n",
    "print(f\"Test Accuracy: {test_acc:.4f}\")\n"
   ]
  },
  {
   "cell_type": "code",
   "execution_count": 8,
   "id": "5af25163-b92b-46c1-b0b4-3816d9a2b1b4",
   "metadata": {},
   "outputs": [
    {
     "name": "stdout",
     "output_type": "stream",
     "text": [
      "Model saved successfully!\n"
     ]
    }
   ],
   "source": [
    "# Save the trained model\n",
    "model.save(\"mlp3.keras\")\n",
    "print(\"Model saved successfully!\")\n"
   ]
  }
 ],
 "metadata": {
  "kernelspec": {
   "display_name": "Python 3 (ipykernel)",
   "language": "python",
   "name": "python3"
  },
  "language_info": {
   "codemirror_mode": {
    "name": "ipython",
    "version": 3
   },
   "file_extension": ".py",
   "mimetype": "text/x-python",
   "name": "python",
   "nbconvert_exporter": "python",
   "pygments_lexer": "ipython3",
   "version": "3.11.4"
  }
 },
 "nbformat": 4,
 "nbformat_minor": 5
}
